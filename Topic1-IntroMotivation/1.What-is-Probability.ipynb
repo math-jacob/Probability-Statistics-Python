{
 "cells": [
  {
   "cell_type": "markdown",
   "metadata": {
    "toc": true
   },
   "source": [
    "<h1>Table of Contents<span class=\"tocSkip\"></span></h1>\n",
    "<div class=\"toc\"><ul class=\"toc-item\"><li><span><a href=\"#What-is-Probability-Theory?\" data-toc-modified-id=\"What-is-Probability-Theory?-1\"><span class=\"toc-item-num\">1&nbsp;&nbsp;</span>What is Probability Theory?</a></span><ul class=\"toc-item\"><li><span><a href=\"#A-simple-(?)-question\" data-toc-modified-id=\"A-simple-(?)-question-1.1\"><span class=\"toc-item-num\">1.1&nbsp;&nbsp;</span>A simple (?) question</a></span></li><li><span><a href=\"#Simulating-coin-flips\" data-toc-modified-id=\"Simulating-coin-flips-1.2\"><span class=\"toc-item-num\">1.2&nbsp;&nbsp;</span>Simulating coin flips</a></span></li><li><span><a href=\"#Summary\" data-toc-modified-id=\"Summary-1.3\"><span class=\"toc-item-num\">1.3&nbsp;&nbsp;</span>Summary</a></span></li></ul></li><li><span><a href=\"#What-is-probability-theory?\" data-toc-modified-id=\"What-is-probability-theory?-2\"><span class=\"toc-item-num\">2&nbsp;&nbsp;</span>What is probability theory?</a></span></li></ul></div>"
   ]
  },
  {
   "cell_type": "code",
   "execution_count": 151,
   "metadata": {
    "slideshow": {
     "slide_type": "skip"
    }
   },
   "outputs": [],
   "source": [
    "from matplotlib.pyplot import *\n",
    "from numpy import random, sum"
   ]
  },
  {
   "cell_type": "markdown",
   "metadata": {
    "slideshow": {
     "slide_type": "slide"
    }
   },
   "source": [
    "# What is Probability Theory?"
   ]
  },
  {
   "cell_type": "markdown",
   "metadata": {
    "slideshow": {
     "slide_type": "fragment"
    }
   },
   "source": [
    "* Probability Theory is a **mathematical** framework for computing the probability of complex events."
   ]
  },
  {
   "cell_type": "markdown",
   "metadata": {
    "slideshow": {
     "slide_type": "fragment"
    }
   },
   "source": [
    "* Under the assumption that **we know the probabilities of the basic events.**"
   ]
  },
  {
   "cell_type": "markdown",
   "metadata": {
    "slideshow": {
     "slide_type": "fragment"
    }
   },
   "source": [
    "* What is the precise meaning of <font color='red'>\"probability\"</font> and <font color='red'>\"event\"</font>?"
   ]
  },
  {
   "cell_type": "markdown",
   "metadata": {
    "slideshow": {
     "slide_type": "fragment"
    }
   },
   "source": [
    "* We will give precise definitions later in the class. "
   ]
  },
  {
   "cell_type": "markdown",
   "metadata": {
    "slideshow": {
     "slide_type": "fragment"
    }
   },
   "source": [
    "* For now, we'll rely on common sense."
   ]
  },
  {
   "cell_type": "markdown",
   "metadata": {
    "slideshow": {
     "slide_type": "slide"
    }
   },
   "source": [
    "## A simple (?) question\n",
    "We all know that if one flips a fair coin then the outcome is \"heads\" or \"tails\" with equal probabilities."
   ]
  },
  {
   "cell_type": "markdown",
   "metadata": {
    "slideshow": {
     "slide_type": "fragment"
    }
   },
   "source": [
    "What does that mean? "
   ]
  },
  {
   "cell_type": "markdown",
   "metadata": {
    "slideshow": {
     "slide_type": "fragment"
    }
   },
   "source": [
    "It means that if we flip the coin $k$ times, for some large value of $k$, say $k=10,000$, "
   ]
  },
  {
   "cell_type": "markdown",
   "metadata": {
    "slideshow": {
     "slide_type": "fragment"
    }
   },
   "source": [
    "Then the number of \"heads\" is **about** $\\frac{k}{2}=\\frac{10,000}{2} = 5,000$"
   ]
  },
  {
   "cell_type": "markdown",
   "metadata": {
    "slideshow": {
     "slide_type": "fragment"
    }
   },
   "source": [
    "What do we mean by **about** ??"
   ]
  },
  {
   "cell_type": "markdown",
   "metadata": {
    "slideshow": {
     "slide_type": "slide"
    }
   },
   "source": [
    "## Simulating coin flips\n",
    "\n",
    "We will use the pseudo random number generators in `numpy` to simulate the coin flips. "
   ]
  },
  {
   "cell_type": "markdown",
   "metadata": {
    "slideshow": {
     "slide_type": "slide"
    }
   },
   "source": [
    "instead of \"Heads\" and \"Tails\" we will use $x_i=1$ or $x_i=-1$ and consider the sum $S_{10000} = x_1+x_2+\\cdots+x_{10000}$."
   ]
  },
  {
   "cell_type": "markdown",
   "metadata": {
    "slideshow": {
     "slide_type": "fragment"
    }
   },
   "source": [
    "If the number of heads is about 5,000 then $S_{10000}\\approx 0$"
   ]
  },
  {
   "cell_type": "markdown",
   "metadata": {
    "slideshow": {
     "slide_type": "fragment"
    }
   },
   "source": [
    "We will vary the number of coin flips, which we denote by $k$"
   ]
  },
  {
   "cell_type": "code",
   "execution_count": 152,
   "metadata": {
    "code_folding": [],
    "slideshow": {
     "slide_type": "subslide"
    }
   },
   "outputs": [],
   "source": [
    "# Generate the sum of k coin flips, repeat that n times\n",
    "# It means that we flip 1000 (rows of matrix) coins 100 (columns of matrix) times\n",
    "# We repeat that n times in order to get a reasonable sample\n",
    "\n",
    "# random.rand(k,n) > 0.5 creates a mask for the matrix\n",
    "# if the random number in the matrix cell is > 0.5, then its True, otherwise False\n",
    "# note that we are considering values above 0.5 True and below 0.5 False --> simulating a coin flip\n",
    "\n",
    "# 2*(random.rand(k,n)>0.5)-1 transforms the mask in 1 and -1 instead of True and False\n",
    "\n",
    "# sum(X,axis=0) is getting the sum of each 1000 flips -> result is an 1D array\n",
    "\n",
    "def generate_counts(k=1000,n=100):\n",
    "    X=2*(random.rand(k,n)>0.5)-1  # generate a kXn matrix of +-1 random numbers\n",
    "    S=sum(X,axis=0) \n",
    "    return S\n"
   ]
  },
  {
   "cell_type": "code",
   "execution_count": 153,
   "metadata": {
    "hide_input": true,
    "scrolled": false,
    "slideshow": {
     "slide_type": "subslide"
    }
   },
   "outputs": [
    {
     "data": {
      "image/png": "[encoded data removed]",
      "text/plain": [
       "<Figure size 1000x400 with 1 Axes>"
      ]
     },
     "metadata": {},
     "output_type": "display_data"
    }
   ],
   "source": [
    "# so here we are plotting the frequency of the \"n\" sums\n",
    "\n",
    "k=1000\n",
    "n=1000\n",
    "counts=generate_counts(k=k,n=n)\n",
    "figure(figsize=[10,4])\n",
    "hist(counts);\n",
    "xlim([-k,k])\n",
    "xlabel(\"sum\")\n",
    "ylabel(\"count\")\n",
    "title(\"Histogram of coin flip sum when flipping a fair coin %d times\"%k)\n",
    "grid()"
   ]
  },
  {
   "cell_type": "markdown",
   "metadata": {},
   "source": [
    "Note that\n",
    "- each time we rerun the code, the histogram is slightly different\n",
    "- hower, even though it is always each time slightly different, there is something very much in common for all of these coinf lips\n",
    "- they're all concentrated around zero, but they're not exactly zero"
   ]
  },
  {
   "cell_type": "markdown",
   "metadata": {
    "slideshow": {
     "slide_type": "fragment"
    }
   },
   "source": [
    "Note that the sum $S_{1000}$ is not **exactly** $0$, it is only **close to** $0$."
   ]
  },
  {
   "cell_type": "markdown",
   "metadata": {
    "slideshow": {
     "slide_type": "subslide"
    }
   },
   "source": [
    "Using **probability theory** we can calculate **how small** is $\\big|S_k\\big|$"
   ]
  },
  {
   "cell_type": "markdown",
   "metadata": {
    "slideshow": {
     "slide_type": "fragment"
    }
   },
   "source": [
    "In a later lesson we will show that the probability that \n",
    "$$\\big| S_k \\big| \\geq 4\\sqrt{k}$$\n",
    "is smaller than $2 \\times 10^{-8}$ which is $0.000002\\%$"
   ]
  },
  {
   "cell_type": "markdown",
   "metadata": {
    "slideshow": {
     "slide_type": "subslide"
    }
   },
   "source": [
    "Let's use our simulation to demonstrate that this is the case:"
   ]
  },
  {
   "cell_type": "code",
   "execution_count": 154,
   "metadata": {
    "code_folding": [],
    "hide_input": true,
    "scrolled": true,
    "slideshow": {
     "slide_type": "subslide"
    }
   },
   "outputs": [
    {
     "data": {
      "image/png": "[encoded data removed]",
      "text/plain": [
       "<Figure size 1300x350 with 3 Axes>"
      ]
     },
     "metadata": {},
     "output_type": "display_data"
    }
   ],
   "source": [
    "from math import sqrt\n",
    "\n",
    "figure(figsize=[13,3.5])\n",
    "for j in range(2,5):\n",
    "    k=10**j\n",
    "    counts=generate_counts(k=k,n=100)\n",
    "    subplot(130+j-1)\n",
    "    hist(counts,bins=10);\n",
    "    d=4*sqrt(k)\n",
    "    plot([-d,-d],[0,30],'r')\n",
    "    plot([+d,+d],[0,30],'r')\n",
    "    grid()\n",
    "    title('%d flips, bound=+-%6.1f'%(k,d))\n"
   ]
  },
  {
   "cell_type": "markdown",
   "metadata": {},
   "source": [
    "Note that\n",
    "- none of the histogram bins surpassed the red bounds that represent $$4\\sqrt{k}$$"
   ]
  },
  {
   "cell_type": "markdown",
   "metadata": {},
   "source": [
    "If we plot the full scale, we see the following:"
   ]
  },
  {
   "cell_type": "code",
   "execution_count": 155,
   "metadata": {
    "hide_input": true,
    "slideshow": {
     "slide_type": "subslide"
    }
   },
   "outputs": [
    {
     "data": {
      "image/png": "[encoded data removed]",
      "text/plain": [
       "<Figure size 1300x350 with 3 Axes>"
      ]
     },
     "metadata": {},
     "output_type": "display_data"
    }
   ],
   "source": [
    "figure(figsize=[13,3.5])\n",
    "for j in range(2,5):\n",
    "    k=10**j\n",
    "    counts=generate_counts(k=k,n=100)\n",
    "    subplot(130+j-1)\n",
    "    hist(counts,bins=10);\n",
    "    xlim([-k,k]) # not limiting the x\n",
    "    d=4*sqrt(k)\n",
    "    plot([-d,-d],[0,30],'r')\n",
    "    plot([+d,+d],[0,30],'r')\n",
    "    grid()\n",
    "    title('%d flips, bound=+-%6.1f'%(k,d))\n"
   ]
  },
  {
   "cell_type": "markdown",
   "metadata": {},
   "source": [
    "we see that the distribution becomes more and more concentrated around zero, relative to this scale."
   ]
  },
  {
   "cell_type": "markdown",
   "metadata": {},
   "source": [
    "the distribuition gets more and more concentrated as you flip the coins more and more times"
   ]
  },
  {
   "cell_type": "markdown",
   "metadata": {
    "slideshow": {
     "slide_type": "slide"
    }
   },
   "source": [
    "## Summary\n",
    "We did some experiments summing $k$ random numbers: $S_k=x_1+x_2+\\cdots+x_k$"
   ]
  },
  {
   "cell_type": "markdown",
   "metadata": {
    "collapsed": true,
    "slideshow": {
     "slide_type": "fragment"
    }
   },
   "source": [
    "$x_i=-1$ with probability $1/2$, $x_i=+1$ with probability $1/2$"
   ]
  },
  {
   "cell_type": "markdown",
   "metadata": {
    "slideshow": {
     "slide_type": "fragment"
    }
   },
   "source": [
    "Our experiments show that the sum $S_k$ is (almost) always in the range $\\big[-4\\sqrt{k},+4\\sqrt{k}\\big]$ "
   ]
  },
  {
   "cell_type": "markdown",
   "metadata": {
    "slideshow": {
     "slide_type": "fragment"
    }
   },
   "source": [
    "\n",
    "$$\\text{ If } k \\to \\infty,\\;\\;\\; \\frac{4 \\sqrt{k}}{k} = \\frac{4}{\\sqrt{k}} \\to 0$$"
   ]
  },
  {
   "cell_type": "markdown",
   "metadata": {
    "slideshow": {
     "slide_type": "subslide"
    }
   },
   "source": [
    "$$\\text{Therefor if }\\;\\;k \\to \\infty,  \\frac{S_k}{k} \\to 0$$"
   ]
  },
  {
   "cell_type": "markdown",
   "metadata": {},
   "source": [
    "so the ratio of the difference between heads and tails (Sk) divided by k, that goes to zero."
   ]
  },
  {
   "cell_type": "markdown",
   "metadata": {},
   "source": [
    "And that's basically what we mean by the probability is being half and half."
   ]
  },
  {
   "cell_type": "markdown",
   "metadata": {
    "slideshow": {
     "slide_type": "slide"
    }
   },
   "source": [
    "# What is probability theory?\n",
    "It is the math involved in **proving** (a precise version of) the statements above."
   ]
  },
  {
   "cell_type": "markdown",
   "metadata": {
    "slideshow": {
     "slide_type": "fragment"
    }
   },
   "source": [
    "In most cases, we can **approximate** probabilities using simulations (Monte-Carlo simulations)"
   ]
  },
  {
   "cell_type": "markdown",
   "metadata": {
    "slideshow": {
     "slide_type": "fragment"
    }
   },
   "source": [
    "Calculating the probabilities is better because:"
   ]
  },
  {
   "cell_type": "markdown",
   "metadata": {
    "slideshow": {
     "slide_type": "fragment"
    }
   },
   "source": [
    "* It provides a precise answer"
   ]
  },
  {
   "cell_type": "markdown",
   "metadata": {},
   "source": [
    "* Monte-Carlo simulations just gives you an approximation and you need to run the experiment longer and longer to get more and more accurate answers."
   ]
  },
  {
   "cell_type": "markdown",
   "metadata": {
    "slideshow": {
     "slide_type": "fragment"
    }
   },
   "source": [
    "* It is much faster than Monte Carlo simulations."
   ]
  }
 ],
 "metadata": {
  "anaconda-cloud": {},
  "celltoolbar": "Slideshow",
  "kernelspec": {
   "display_name": "Python 3",
   "language": "python",
   "name": "python3"
  },
  "language_info": {
   "codemirror_mode": {
    "name": "ipython",
    "version": 3
   },
   "file_extension": ".py",
   "mimetype": "text/x-python",
   "name": "python",
   "nbconvert_exporter": "python",
   "pygments_lexer": "ipython3",
   "version": "3.11.4"
  },
  "toc": {
   "base_numbering": 1,
   "nav_menu": {
    "height": "66px",
    "width": "252px"
   },
   "number_sections": true,
   "sideBar": true,
   "skip_h1_title": false,
   "title_cell": "Table of Contents",
   "title_sidebar": "Contents",
   "toc_cell": true,
   "toc_position": {
    "height": "412px",
    "left": "0px",
    "right": "871.4px",
    "top": "134px",
    "width": "200px"
   },
   "toc_section_display": "block",
   "toc_window_display": false
  },
  "varInspector": {
   "cols": {
    "lenName": 16,
    "lenType": 16,
    "lenVar": 40
   },
   "kernels_config": {
    "python": {
     "delete_cmd_postfix": "",
     "delete_cmd_prefix": "del ",
     "library": "var_list.py",
     "varRefreshCmd": "print(var_dic_list())"
    },
    "r": {
     "delete_cmd_postfix": ") ",
     "delete_cmd_prefix": "rm(",
     "library": "var_list.r",
     "varRefreshCmd": "cat(var_dic_list()) "
    }
   },
   "types_to_exclude": [
    "module",
    "function",
    "builtin_function_or_method",
    "instance",
    "_Feature"
   ],
   "window_display": false
  }
 },
 "nbformat": 4,
 "nbformat_minor": 2
}
